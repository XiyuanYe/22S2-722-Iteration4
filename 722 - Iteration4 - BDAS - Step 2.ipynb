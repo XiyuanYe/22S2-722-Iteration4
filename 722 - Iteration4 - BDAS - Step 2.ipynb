{
 "cells": [
  {
   "cell_type": "markdown",
   "id": "6ecd9202",
   "metadata": {},
   "source": [
    "STEP 2. DATA UNDERSTANDING (in PANDAS)"
   ]
  },
  {
   "cell_type": "code",
   "execution_count": 27,
   "id": "6940bec8",
   "metadata": {},
   "outputs": [],
   "source": [
    "import pandas as pd\n",
    "import numpy as np\n",
    "import matplotlib.pyplot as plt\n",
    "import seaborn as sns"
   ]
  },
  {
   "cell_type": "code",
   "execution_count": 2,
   "id": "7ea00c20",
   "metadata": {},
   "outputs": [],
   "source": [
    "df = pd.read_csv(\"dataset_base.csv\")"
   ]
  },
  {
   "cell_type": "markdown",
   "id": "2f0b07ef",
   "metadata": {},
   "source": [
    "Data description and visualization"
   ]
  },
  {
   "cell_type": "code",
   "execution_count": 3,
   "id": "3eb4cc71",
   "metadata": {},
   "outputs": [
    {
     "data": {
      "text/plain": [
       "(1499, 19)"
      ]
     },
     "execution_count": 3,
     "metadata": {},
     "output_type": "execute_result"
    }
   ],
   "source": [
    "df.shape"
   ]
  },
  {
   "cell_type": "code",
   "execution_count": 4,
   "id": "86a4511c",
   "metadata": {},
   "outputs": [
    {
     "data": {
      "text/html": [
       "<div>\n",
       "<style scoped>\n",
       "    .dataframe tbody tr th:only-of-type {\n",
       "        vertical-align: middle;\n",
       "    }\n",
       "\n",
       "    .dataframe tbody tr th {\n",
       "        vertical-align: top;\n",
       "    }\n",
       "\n",
       "    .dataframe thead th {\n",
       "        text-align: right;\n",
       "    }\n",
       "</style>\n",
       "<table border=\"1\" class=\"dataframe\">\n",
       "  <thead>\n",
       "    <tr style=\"text-align: right;\">\n",
       "      <th></th>\n",
       "      <th>count</th>\n",
       "      <th>mean</th>\n",
       "      <th>std</th>\n",
       "      <th>min</th>\n",
       "      <th>25%</th>\n",
       "      <th>50%</th>\n",
       "      <th>75%</th>\n",
       "      <th>max</th>\n",
       "    </tr>\n",
       "  </thead>\n",
       "  <tbody>\n",
       "    <tr>\n",
       "      <th>age</th>\n",
       "      <td>1499.0</td>\n",
       "      <td>55.416278</td>\n",
       "      <td>10.861374</td>\n",
       "      <td>29.0</td>\n",
       "      <td>47.0</td>\n",
       "      <td>56.0</td>\n",
       "      <td>63.0</td>\n",
       "      <td>80.0</td>\n",
       "    </tr>\n",
       "    <tr>\n",
       "      <th>height</th>\n",
       "      <td>1499.0</td>\n",
       "      <td>163.542362</td>\n",
       "      <td>8.205556</td>\n",
       "      <td>105.0</td>\n",
       "      <td>158.0</td>\n",
       "      <td>164.0</td>\n",
       "      <td>169.0</td>\n",
       "      <td>193.0</td>\n",
       "    </tr>\n",
       "    <tr>\n",
       "      <th>weight</th>\n",
       "      <td>1499.0</td>\n",
       "      <td>74.334223</td>\n",
       "      <td>13.970658</td>\n",
       "      <td>39.0</td>\n",
       "      <td>65.0</td>\n",
       "      <td>72.0</td>\n",
       "      <td>81.0</td>\n",
       "      <td>165.0</td>\n",
       "    </tr>\n",
       "    <tr>\n",
       "      <th>sex</th>\n",
       "      <td>1499.0</td>\n",
       "      <td>0.635090</td>\n",
       "      <td>0.481566</td>\n",
       "      <td>0.0</td>\n",
       "      <td>0.0</td>\n",
       "      <td>1.0</td>\n",
       "      <td>1.0</td>\n",
       "      <td>1.0</td>\n",
       "    </tr>\n",
       "    <tr>\n",
       "      <th>cp</th>\n",
       "      <td>1499.0</td>\n",
       "      <td>0.919947</td>\n",
       "      <td>0.980584</td>\n",
       "      <td>0.0</td>\n",
       "      <td>0.0</td>\n",
       "      <td>1.0</td>\n",
       "      <td>2.0</td>\n",
       "      <td>3.0</td>\n",
       "    </tr>\n",
       "    <tr>\n",
       "      <th>trestbps</th>\n",
       "      <td>1499.0</td>\n",
       "      <td>133.631087</td>\n",
       "      <td>20.422490</td>\n",
       "      <td>94.0</td>\n",
       "      <td>120.0</td>\n",
       "      <td>130.0</td>\n",
       "      <td>145.0</td>\n",
       "      <td>200.0</td>\n",
       "    </tr>\n",
       "    <tr>\n",
       "      <th>chol</th>\n",
       "      <td>1499.0</td>\n",
       "      <td>246.283522</td>\n",
       "      <td>54.438084</td>\n",
       "      <td>126.0</td>\n",
       "      <td>206.0</td>\n",
       "      <td>243.0</td>\n",
       "      <td>282.0</td>\n",
       "      <td>564.0</td>\n",
       "    </tr>\n",
       "    <tr>\n",
       "      <th>fbs</th>\n",
       "      <td>1499.0</td>\n",
       "      <td>0.264176</td>\n",
       "      <td>0.441041</td>\n",
       "      <td>0.0</td>\n",
       "      <td>0.0</td>\n",
       "      <td>0.0</td>\n",
       "      <td>1.0</td>\n",
       "      <td>1.0</td>\n",
       "    </tr>\n",
       "    <tr>\n",
       "      <th>restecg</th>\n",
       "      <td>1499.0</td>\n",
       "      <td>0.597065</td>\n",
       "      <td>0.595167</td>\n",
       "      <td>0.0</td>\n",
       "      <td>0.0</td>\n",
       "      <td>1.0</td>\n",
       "      <td>1.0</td>\n",
       "      <td>2.0</td>\n",
       "    </tr>\n",
       "    <tr>\n",
       "      <th>thalach</th>\n",
       "      <td>1499.0</td>\n",
       "      <td>145.891928</td>\n",
       "      <td>28.126081</td>\n",
       "      <td>71.0</td>\n",
       "      <td>126.0</td>\n",
       "      <td>150.0</td>\n",
       "      <td>167.0</td>\n",
       "      <td>202.0</td>\n",
       "    </tr>\n",
       "    <tr>\n",
       "      <th>exang</th>\n",
       "      <td>1499.0</td>\n",
       "      <td>0.390260</td>\n",
       "      <td>0.487971</td>\n",
       "      <td>0.0</td>\n",
       "      <td>0.0</td>\n",
       "      <td>0.0</td>\n",
       "      <td>1.0</td>\n",
       "      <td>1.0</td>\n",
       "    </tr>\n",
       "    <tr>\n",
       "      <th>oldpeak</th>\n",
       "      <td>1499.0</td>\n",
       "      <td>1.241361</td>\n",
       "      <td>1.113108</td>\n",
       "      <td>0.0</td>\n",
       "      <td>0.1</td>\n",
       "      <td>1.1</td>\n",
       "      <td>2.0</td>\n",
       "      <td>6.2</td>\n",
       "    </tr>\n",
       "    <tr>\n",
       "      <th>slope</th>\n",
       "      <td>1499.0</td>\n",
       "      <td>1.268846</td>\n",
       "      <td>0.712587</td>\n",
       "      <td>0.0</td>\n",
       "      <td>1.0</td>\n",
       "      <td>1.0</td>\n",
       "      <td>2.0</td>\n",
       "      <td>2.0</td>\n",
       "    </tr>\n",
       "    <tr>\n",
       "      <th>ca</th>\n",
       "      <td>1499.0</td>\n",
       "      <td>0.960640</td>\n",
       "      <td>1.128783</td>\n",
       "      <td>0.0</td>\n",
       "      <td>0.0</td>\n",
       "      <td>1.0</td>\n",
       "      <td>2.0</td>\n",
       "      <td>4.0</td>\n",
       "    </tr>\n",
       "    <tr>\n",
       "      <th>thal</th>\n",
       "      <td>1499.0</td>\n",
       "      <td>2.218813</td>\n",
       "      <td>0.701053</td>\n",
       "      <td>0.0</td>\n",
       "      <td>2.0</td>\n",
       "      <td>2.0</td>\n",
       "      <td>3.0</td>\n",
       "      <td>3.0</td>\n",
       "    </tr>\n",
       "    <tr>\n",
       "      <th>target</th>\n",
       "      <td>1499.0</td>\n",
       "      <td>0.507672</td>\n",
       "      <td>0.500108</td>\n",
       "      <td>0.0</td>\n",
       "      <td>0.0</td>\n",
       "      <td>1.0</td>\n",
       "      <td>1.0</td>\n",
       "      <td>1.0</td>\n",
       "    </tr>\n",
       "    <tr>\n",
       "      <th>alco</th>\n",
       "      <td>1499.0</td>\n",
       "      <td>0.050700</td>\n",
       "      <td>0.219459</td>\n",
       "      <td>0.0</td>\n",
       "      <td>0.0</td>\n",
       "      <td>0.0</td>\n",
       "      <td>0.0</td>\n",
       "      <td>1.0</td>\n",
       "    </tr>\n",
       "    <tr>\n",
       "      <th>smoke</th>\n",
       "      <td>1499.0</td>\n",
       "      <td>0.066711</td>\n",
       "      <td>0.249604</td>\n",
       "      <td>0.0</td>\n",
       "      <td>0.0</td>\n",
       "      <td>0.0</td>\n",
       "      <td>0.0</td>\n",
       "      <td>1.0</td>\n",
       "    </tr>\n",
       "    <tr>\n",
       "      <th>exercise</th>\n",
       "      <td>1499.0</td>\n",
       "      <td>0.503002</td>\n",
       "      <td>0.500158</td>\n",
       "      <td>0.0</td>\n",
       "      <td>0.0</td>\n",
       "      <td>1.0</td>\n",
       "      <td>1.0</td>\n",
       "      <td>1.0</td>\n",
       "    </tr>\n",
       "  </tbody>\n",
       "</table>\n",
       "</div>"
      ],
      "text/plain": [
       "           count        mean        std    min    25%    50%    75%    max\n",
       "age       1499.0   55.416278  10.861374   29.0   47.0   56.0   63.0   80.0\n",
       "height    1499.0  163.542362   8.205556  105.0  158.0  164.0  169.0  193.0\n",
       "weight    1499.0   74.334223  13.970658   39.0   65.0   72.0   81.0  165.0\n",
       "sex       1499.0    0.635090   0.481566    0.0    0.0    1.0    1.0    1.0\n",
       "cp        1499.0    0.919947   0.980584    0.0    0.0    1.0    2.0    3.0\n",
       "trestbps  1499.0  133.631087  20.422490   94.0  120.0  130.0  145.0  200.0\n",
       "chol      1499.0  246.283522  54.438084  126.0  206.0  243.0  282.0  564.0\n",
       "fbs       1499.0    0.264176   0.441041    0.0    0.0    0.0    1.0    1.0\n",
       "restecg   1499.0    0.597065   0.595167    0.0    0.0    1.0    1.0    2.0\n",
       "thalach   1499.0  145.891928  28.126081   71.0  126.0  150.0  167.0  202.0\n",
       "exang     1499.0    0.390260   0.487971    0.0    0.0    0.0    1.0    1.0\n",
       "oldpeak   1499.0    1.241361   1.113108    0.0    0.1    1.1    2.0    6.2\n",
       "slope     1499.0    1.268846   0.712587    0.0    1.0    1.0    2.0    2.0\n",
       "ca        1499.0    0.960640   1.128783    0.0    0.0    1.0    2.0    4.0\n",
       "thal      1499.0    2.218813   0.701053    0.0    2.0    2.0    3.0    3.0\n",
       "target    1499.0    0.507672   0.500108    0.0    0.0    1.0    1.0    1.0\n",
       "alco      1499.0    0.050700   0.219459    0.0    0.0    0.0    0.0    1.0\n",
       "smoke     1499.0    0.066711   0.249604    0.0    0.0    0.0    0.0    1.0\n",
       "exercise  1499.0    0.503002   0.500158    0.0    0.0    1.0    1.0    1.0"
      ]
     },
     "execution_count": 4,
     "metadata": {},
     "output_type": "execute_result"
    }
   ],
   "source": [
    "df.describe().T"
   ]
  },
  {
   "cell_type": "code",
   "execution_count": 5,
   "id": "9bf55e1d",
   "metadata": {},
   "outputs": [
    {
     "data": {
      "text/plain": [
       "age           int64\n",
       "height        int64\n",
       "weight      float64\n",
       "sex           int64\n",
       "cp            int64\n",
       "trestbps      int64\n",
       "chol          int64\n",
       "fbs           int64\n",
       "restecg       int64\n",
       "thalach       int64\n",
       "exang         int64\n",
       "oldpeak     float64\n",
       "slope         int64\n",
       "ca            int64\n",
       "thal          int64\n",
       "target        int64\n",
       "alco          int64\n",
       "smoke         int64\n",
       "exercise      int64\n",
       "dtype: object"
      ]
     },
     "execution_count": 5,
     "metadata": {},
     "output_type": "execute_result"
    }
   ],
   "source": [
    "df.dtypes"
   ]
  },
  {
   "cell_type": "code",
   "execution_count": 6,
   "id": "f132db5a",
   "metadata": {},
   "outputs": [
    {
     "name": "stdout",
     "output_type": "stream",
     "text": [
      "<class 'pandas.core.frame.DataFrame'>\n",
      "RangeIndex: 1499 entries, 0 to 1498\n",
      "Data columns (total 19 columns):\n",
      " #   Column    Non-Null Count  Dtype  \n",
      "---  ------    --------------  -----  \n",
      " 0   age       1499 non-null   int64  \n",
      " 1   height    1499 non-null   int64  \n",
      " 2   weight    1499 non-null   float64\n",
      " 3   sex       1499 non-null   int64  \n",
      " 4   cp        1499 non-null   int64  \n",
      " 5   trestbps  1499 non-null   int64  \n",
      " 6   chol      1499 non-null   int64  \n",
      " 7   fbs       1499 non-null   int64  \n",
      " 8   restecg   1499 non-null   int64  \n",
      " 9   thalach   1499 non-null   int64  \n",
      " 10  exang     1499 non-null   int64  \n",
      " 11  oldpeak   1499 non-null   float64\n",
      " 12  slope     1499 non-null   int64  \n",
      " 13  ca        1499 non-null   int64  \n",
      " 14  thal      1499 non-null   int64  \n",
      " 15  target    1499 non-null   int64  \n",
      " 16  alco      1499 non-null   int64  \n",
      " 17  smoke     1499 non-null   int64  \n",
      " 18  exercise  1499 non-null   int64  \n",
      "dtypes: float64(2), int64(17)\n",
      "memory usage: 222.6 KB\n"
     ]
    }
   ],
   "source": [
    "df.info()"
   ]
  },
  {
   "cell_type": "code",
   "execution_count": 7,
   "id": "9544e0e6",
   "metadata": {},
   "outputs": [
    {
     "data": {
      "image/png": "[encoded data removed]",
      "text/plain": [
       "<Figure size 936x504 with 1 Axes>"
      ]
     },
     "metadata": {
      "needs_background": "light"
     },
     "output_type": "display_data"
    }
   ],
   "source": [
    "plt.figure(figsize=(13,7),)\n",
    "sns.countplot(x=df.age, data = df)\n",
    "\n",
    "plt.xticks(rotation=45)\n",
    "plt.title(\"Number of age values\")\n",
    "plt.show()"
   ]
  },
  {
   "cell_type": "code",
   "execution_count": 8,
   "id": "3572b2ae",
   "metadata": {},
   "outputs": [
    {
     "data": {
      "image/png": "[encoded data removed]",
      "text/plain": [
       "<Figure size 936x504 with 1 Axes>"
      ]
     },
     "metadata": {
      "needs_background": "light"
     },
     "output_type": "display_data"
    }
   ],
   "source": [
    "plt.figure(figsize=(13,7),)\n",
    "sns.countplot(x=df.height, data = df)\n",
    "\n",
    "plt.xticks(rotation=45)\n",
    "plt.title(\"Number of height values\")\n",
    "plt.show()"
   ]
  },
  {
   "cell_type": "code",
   "execution_count": 9,
   "id": "9cca32f5",
   "metadata": {},
   "outputs": [
    {
     "data": {
      "image/png": "[encoded data removed]",
      "text/plain": [
       "<Figure size 1440x504 with 1 Axes>"
      ]
     },
     "metadata": {
      "needs_background": "light"
     },
     "output_type": "display_data"
    }
   ],
   "source": [
    "plt.figure(figsize=(20,7),)\n",
    "sns.countplot(x=df.weight, data = df)\n",
    "\n",
    "plt.xticks(rotation=90)\n",
    "plt.title(\"Number of weight values\")\n",
    "plt.show()"
   ]
  },
  {
   "cell_type": "code",
   "execution_count": 10,
   "id": "0dba8b3a",
   "metadata": {},
   "outputs": [
    {
     "data": {
      "image/png": "[encoded data removed]",
      "text/plain": [
       "<Figure size 288x288 with 1 Axes>"
      ]
     },
     "metadata": {
      "needs_background": "light"
     },
     "output_type": "display_data"
    }
   ],
   "source": [
    "plt.figure(figsize=(4,4),)\n",
    "sns.countplot(x=df.sex, data = df)\n",
    "\n",
    "plt.xticks(rotation=90)\n",
    "plt.title(\"Number of sex values\")\n",
    "plt.show()"
   ]
  },
  {
   "cell_type": "code",
   "execution_count": 11,
   "id": "7406e83c",
   "metadata": {},
   "outputs": [
    {
     "name": "stdout",
     "output_type": "stream",
     "text": [
      "Number of people without disease:738 ,The percentage of people without heart disease: 49.23%\n",
      "Number of people with disease:761 ,The percentage of people with heart disease: 50.77%\n",
      "The number of women:547 ,The proportion of women: 36.49%\n",
      "The number of men:952 ,The proportion of men: 63.51%\n"
     ]
    }
   ],
   "source": [
    "countNoDisease = len(df[df.target == 0])\n",
    "countHaveDisease = len(df[df.target == 1])\n",
    "countfemale = len(df[df.sex == 0])\n",
    "countmale = len(df[df.sex == 1])\n",
    "print(f'Number of people without disease:{countNoDisease }',end=' ,')\n",
    "print(\"The percentage of people without heart disease: {:.2f}%\".format((countNoDisease / (len(df.target))*100)))\n",
    "print(f'Number of people with disease:{countHaveDisease }',end=' ,')\n",
    "print(\"The percentage of people with heart disease: {:.2f}%\".format((countHaveDisease / (len(df.target))*100)))\n",
    "print(f'The number of women:{countfemale }',end=' ,')\n",
    "print(\"The proportion of women: {:.2f}%\".format((countfemale / (len(df.sex))*100)))\n",
    "print(f'The number of men:{countmale }',end=' ,')\n",
    "print(\"The proportion of men: {:.2f}%\".format((countmale / (len(df.sex))*100)))"
   ]
  },
  {
   "cell_type": "code",
   "execution_count": 12,
   "id": "6ead5ad5",
   "metadata": {},
   "outputs": [
    {
     "data": {
      "image/png": "[encoded data removed]",
      "text/plain": [
       "<Figure size 432x288 with 2 Axes>"
      ]
     },
     "metadata": {},
     "output_type": "display_data"
    }
   ],
   "source": [
    "plt.subplot(1, 2, 1)\n",
    "a = [138, 165]\n",
    "explode=(0,0.1)\n",
    "label1 = ['Not sick','be ill']\n",
    "plt.pie(a,labels=label1,explode=explode, autopct='%1.1f%%')\n",
    "plt.title(\"The percentage of people with heart disease\")\n",
    "\n",
    "plt.subplot(1, 2, 2)\n",
    "b = [207, 96]\n",
    "explode=(0,0.1)\n",
    "label2 = ['man','women']\n",
    "plt.pie(b,labels=label2,explode=explode, autopct='%1.1f%%')\n",
    "plt.title(\"The proportion of men and women affected\")\n",
    "plt.show()"
   ]
  },
  {
   "cell_type": "code",
   "execution_count": 13,
   "id": "d0394336",
   "metadata": {},
   "outputs": [
    {
     "data": {
      "image/png": "[encoded data removed]",
      "text/plain": [
       "<Figure size 288x288 with 1 Axes>"
      ]
     },
     "metadata": {
      "needs_background": "light"
     },
     "output_type": "display_data"
    }
   ],
   "source": [
    "plt.figure(figsize=(4,4),)\n",
    "sns.countplot(x=df.cp, data = df)\n",
    "\n",
    "plt.xticks(rotation=90)\n",
    "plt.title(\"Number of cp values\")\n",
    "plt.show()"
   ]
  },
  {
   "cell_type": "code",
   "execution_count": 14,
   "id": "bc7019f1",
   "metadata": {},
   "outputs": [
    {
     "data": {
      "image/png": "[encoded data removed]",
      "text/plain": [
       "<Figure size 1008x288 with 1 Axes>"
      ]
     },
     "metadata": {
      "needs_background": "light"
     },
     "output_type": "display_data"
    }
   ],
   "source": [
    "plt.figure(figsize=(14,4),)\n",
    "sns.countplot(x=df.trestbps, data = df)\n",
    "\n",
    "plt.xticks(rotation=90)\n",
    "plt.title(\"Number of trestbps values\")\n",
    "plt.show()"
   ]
  },
  {
   "cell_type": "code",
   "execution_count": 15,
   "id": "47f59121",
   "metadata": {},
   "outputs": [
    {
     "data": {
      "image/png": "[encoded data removed]",
      "text/plain": [
       "<Figure size 288x288 with 1 Axes>"
      ]
     },
     "metadata": {
      "needs_background": "light"
     },
     "output_type": "display_data"
    }
   ],
   "source": [
    "plt.figure(figsize=(4,4),)\n",
    "sns.countplot(x=df.target, data = df)\n",
    "\n",
    "plt.xticks(rotation=90)\n",
    "plt.title(\"Number of target values\")\n",
    "plt.show()"
   ]
  },
  {
   "cell_type": "code",
   "execution_count": 16,
   "id": "5abc5856",
   "metadata": {},
   "outputs": [
    {
     "data": {
      "image/png": "[encoded data removed]",
      "text/plain": [
       "<Figure size 432x288 with 1 Axes>"
      ]
     },
     "metadata": {
      "needs_background": "light"
     },
     "output_type": "display_data"
    }
   ],
   "source": [
    "sns.countplot(x=\"alco\", hue= \"target\", data = df)\n",
    "plt.title(\"target - alco\")\n",
    "plt.show()"
   ]
  },
  {
   "cell_type": "code",
   "execution_count": 17,
   "id": "a53dfc07",
   "metadata": {},
   "outputs": [
    {
     "data": {
      "image/png": "[encoded data removed]",
      "text/plain": [
       "<Figure size 432x288 with 1 Axes>"
      ]
     },
     "metadata": {
      "needs_background": "light"
     },
     "output_type": "display_data"
    }
   ],
   "source": [
    "sns.countplot(x=\"smoke\", hue= \"target\", data = df)\n",
    "plt.title(\"target - smoke\")\n",
    "plt.show()"
   ]
  },
  {
   "cell_type": "code",
   "execution_count": 18,
   "id": "0a06fb38",
   "metadata": {},
   "outputs": [
    {
     "data": {
      "image/png": "[encoded data removed]",
      "text/plain": [
       "<Figure size 432x288 with 1 Axes>"
      ]
     },
     "metadata": {
      "needs_background": "light"
     },
     "output_type": "display_data"
    }
   ],
   "source": [
    "sns.countplot(x=\"exercise\", hue= \"target\", data = df)\n",
    "plt.title(\"target - exercise\")\n",
    "plt.show()"
   ]
  },
  {
   "cell_type": "code",
   "execution_count": 19,
   "id": "77ce1490",
   "metadata": {},
   "outputs": [
    {
     "data": {
      "image/png": "[encoded data removed]",
      "text/plain": [
       "<Figure size 432x288 with 1 Axes>"
      ]
     },
     "metadata": {
      "needs_background": "light"
     },
     "output_type": "display_data"
    }
   ],
   "source": [
    "sns.countplot(x=\"thal\", hue= \"target\", data = df)\n",
    "plt.title(\"target - thal\")\n",
    "plt.show()"
   ]
  },
  {
   "cell_type": "code",
   "execution_count": 20,
   "id": "417fb322",
   "metadata": {},
   "outputs": [
    {
     "data": {
      "image/png": "[encoded data removed]",
      "text/plain": [
       "<Figure size 432x288 with 1 Axes>"
      ]
     },
     "metadata": {
      "needs_background": "light"
     },
     "output_type": "display_data"
    }
   ],
   "source": [
    "sns.countplot(x=\"ca\", hue= \"target\", data = df)\n",
    "plt.title(\"target - ca\")\n",
    "plt.show()"
   ]
  },
  {
   "cell_type": "markdown",
   "id": "d3765402",
   "metadata": {},
   "source": [
    "Data quality verification"
   ]
  },
  {
   "cell_type": "code",
   "execution_count": 22,
   "id": "afb0d9ad",
   "metadata": {},
   "outputs": [
    {
     "data": {
      "text/plain": [
       "age         0\n",
       "height      0\n",
       "weight      0\n",
       "sex         0\n",
       "cp          0\n",
       "trestbps    0\n",
       "chol        0\n",
       "fbs         0\n",
       "restecg     0\n",
       "thalach     0\n",
       "exang       0\n",
       "oldpeak     0\n",
       "slope       0\n",
       "ca          0\n",
       "thal        0\n",
       "target      0\n",
       "alco        0\n",
       "smoke       0\n",
       "exercise    0\n",
       "dtype: int64"
      ]
     },
     "execution_count": 22,
     "metadata": {},
     "output_type": "execute_result"
    }
   ],
   "source": [
    "pd.isna(df).sum()"
   ]
  },
  {
   "cell_type": "code",
   "execution_count": 28,
   "id": "e83345fc",
   "metadata": {},
   "outputs": [
    {
     "data": {
      "text/plain": [
       "age         0.0\n",
       "height      0.0\n",
       "weight      0.0\n",
       "sex         0.0\n",
       "cp          0.0\n",
       "trestbps    0.0\n",
       "chol        0.0\n",
       "fbs         0.0\n",
       "restecg     0.0\n",
       "thalach     0.0\n",
       "exang       0.0\n",
       "oldpeak     0.0\n",
       "slope       0.0\n",
       "ca          0.0\n",
       "thal        0.0\n",
       "target      0.0\n",
       "alco        0.0\n",
       "smoke       0.0\n",
       "exercise    0.0\n",
       "dtype: float64"
      ]
     },
     "execution_count": 28,
     "metadata": {},
     "output_type": "execute_result"
    }
   ],
   "source": [
    "df.apply(lambda x:sum(x.isnull())/len(x),axis=0)"
   ]
  },
  {
   "cell_type": "code",
   "execution_count": 29,
   "id": "52e6180a",
   "metadata": {},
   "outputs": [
    {
     "data": {
      "text/plain": [
       "0       0.0\n",
       "1       0.0\n",
       "2       0.0\n",
       "3       0.0\n",
       "4       0.0\n",
       "       ... \n",
       "1494    0.0\n",
       "1495    0.0\n",
       "1496    0.0\n",
       "1497    0.0\n",
       "1498    0.0\n",
       "Length: 1499, dtype: float64"
      ]
     },
     "execution_count": 29,
     "metadata": {},
     "output_type": "execute_result"
    }
   ],
   "source": [
    "df.apply(lambda x:sum(x.isnull())/len(x),axis=1)"
   ]
  },
  {
   "cell_type": "code",
   "execution_count": 31,
   "id": "b16124d9",
   "metadata": {},
   "outputs": [
    {
     "data": {
      "text/plain": [
       "age         0\n",
       "height      0\n",
       "weight      0\n",
       "sex         0\n",
       "cp          0\n",
       "trestbps    0\n",
       "chol        0\n",
       "fbs         0\n",
       "restecg     0\n",
       "thalach     0\n",
       "exang       0\n",
       "oldpeak     0\n",
       "slope       0\n",
       "ca          0\n",
       "thal        0\n",
       "target      0\n",
       "alco        0\n",
       "smoke       0\n",
       "exercise    0\n",
       "dtype: int64"
      ]
     },
     "execution_count": 31,
     "metadata": {},
     "output_type": "execute_result"
    }
   ],
   "source": [
    "np.sum(df.isnull())"
   ]
  },
  {
   "cell_type": "code",
   "execution_count": null,
   "id": "d1f21f4c",
   "metadata": {},
   "outputs": [],
   "source": []
  }
 ],
 "metadata": {
  "kernelspec": {
   "display_name": "Python 3 (ipykernel)",
   "language": "python",
   "name": "python3"
  },
  "language_info": {
   "codemirror_mode": {
    "name": "ipython",
    "version": 3
   },
   "file_extension": ".py",
   "mimetype": "text/x-python",
   "name": "python",
   "nbconvert_exporter": "python",
   "pygments_lexer": "ipython3",
   "version": "3.10.4"
  }
 },
 "nbformat": 4,
 "nbformat_minor": 5
}
