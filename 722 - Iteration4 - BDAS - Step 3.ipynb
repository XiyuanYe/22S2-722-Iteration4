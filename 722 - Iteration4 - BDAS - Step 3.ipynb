{
 "cells": [
  {
   "cell_type": "code",
   "execution_count": 1,
   "id": "b5fccfad",
   "metadata": {},
   "outputs": [],
   "source": [
    "#coding=utf-8\n",
    "#import\n",
    "import findspark\n",
    "findspark.init('/home/ubuntu/spark-3.2.1-bin-hadoop2.7')\n",
    "import pyspark\n",
    "from pyspark.sql import SparkSession\n",
    "import matplotlib.pyplot as plt\n",
    "import seaborn as sns"
   ]
  },
  {
   "cell_type": "code",
   "execution_count": 2,
   "id": "a0cf62be",
   "metadata": {},
   "outputs": [
    {
     "name": "stderr",
     "output_type": "stream",
     "text": [
      "WARNING: An illegal reflective access operation has occurred\n",
      "WARNING: Illegal reflective access by org.apache.spark.unsafe.Platform (file:/home/ubuntu/spark-3.2.1-bin-hadoop2.7/jars/spark-unsafe_2.12-3.2.1.jar) to constructor java.nio.DirectByteBuffer(long,int)\n",
      "WARNING: Please consider reporting this to the maintainers of org.apache.spark.unsafe.Platform\n",
      "WARNING: Use --illegal-access=warn to enable warnings of further illegal reflective access operations\n",
      "WARNING: All illegal access operations will be denied in a future release\n",
      "Using Spark's default log4j profile: org/apache/spark/log4j-defaults.properties\n",
      "Setting default log level to \"WARN\".\n",
      "To adjust logging level use sc.setLogLevel(newLevel). For SparkR, use setLogLevel(newLevel).\n",
      "22/10/09 08:46:35 WARN NativeCodeLoader: Unable to load native-hadoop library for your platform... using builtin-java classes where applicable\n"
     ]
    }
   ],
   "source": [
    "#Creating a connected session in local startup mode is available if submitted to the cluster\n",
    "spark = SparkSession.builder \\\n",
    "    .appName(\"xiyuanye\").master(\"local[*]\")\\\n",
    "            .config('spark.driver.maxResultsSize', '0').getOrCreate()"
   ]
  },
  {
   "cell_type": "code",
   "execution_count": 3,
   "id": "2ec8d88d",
   "metadata": {},
   "outputs": [],
   "source": [
    "df_spark = spark.read.csv(\"dataset_base.csv\",header=True,)"
   ]
  },
  {
   "cell_type": "code",
   "execution_count": 4,
   "id": "0424c0fd",
   "metadata": {},
   "outputs": [
    {
     "name": "stdout",
     "output_type": "stream",
     "text": [
      "+---+------+------+---+---+--------+----+---+-------+-------+-----+-------+-----+---+----+------+----+-----+--------+\n",
      "|age|height|weight|sex| cp|trestbps|chol|fbs|restecg|thalach|exang|oldpeak|slope| ca|thal|target|alco|smoke|exercise|\n",
      "+---+------+------+---+---+--------+----+---+-------+-------+-----+-------+-----+---+----+------+----+-----+--------+\n",
      "| 52|   175|    75|  1|  0|     125| 212|  0|      1|    168|    0|      1|    2|  2|   3|     0|   0|    0|       1|\n",
      "| 53|   178|    75|  1|  0|     140| 203|  1|      0|    155|    1|    3.1|    0|  0|   3|     0|   0|    0|       0|\n",
      "| 70|   167|    68|  1|  0|     145| 174|  0|      1|    125|    1|    2.6|    0|  0|   3|     0|   0|    0|       0|\n",
      "| 61|   165|    63|  1|  0|     148| 203|  0|      1|    161|    0|      0|    2|  1|   3|     0|   0|    0|       1|\n",
      "| 62|   163|    55|  0|  0|     138| 294|  1|      1|    106|    0|    1.9|    1|  3|   2|     0|   0|    1|       0|\n",
      "| 58|   165|    64|  0|  0|     100| 248|  0|      0|    122|    0|      1|    1|  0|   2|     1|   0|    0|       1|\n",
      "| 58|   165|    74|  1|  0|     114| 318|  0|      2|    140|    0|    4.4|    0|  3|   1|     0|   0|    0|       1|\n",
      "| 55|   169|    70|  1|  0|     160| 289|  0|      0|    145|    1|    0.8|    1|  1|   3|     0|   0|    0|       0|\n",
      "| 46|   140|    48|  1|  0|     120| 249|  0|      0|    144|    0|    0.8|    2|  0|   3|     0|   0|    0|       1|\n",
      "| 54|   165|    65|  1|  0|     122| 286|  0|      0|    116|    1|    3.2|    1|  2|   2|     0|   0|    0|       1|\n",
      "| 71|   170|    68|  0|  0|     112| 149|  0|      1|    125|    0|    1.6|    1|  0|   2|     1|   0|    0|       0|\n",
      "| 43|   171|    69|  0|  0|     132| 341|  1|      0|    136|    1|      3|    1|  0|   3|     0|   0|    0|       0|\n",
      "| 34|   160|    60|  0|  1|     118| 210|  0|      1|    192|    0|    0.7|    2|  0|   2|     1|   0|    0|       1|\n",
      "| 51|   169|    75|  1|  0|     140| 298|  0|      1|    122|    1|    4.2|    1|  3|   3|     0|   0|    0|       0|\n",
      "| 52|   158|    65|  1|  0|     128| 204|  1|      1|    156|    1|      1|    1|  0|   0|     0|   0|    0|       1|\n",
      "| 34|   160|    75|  0|  1|     118| 210|  0|      1|    192|    0|    0.7|    2|  0|   2|     1|   0|    0|       1|\n",
      "| 51|   169|    80|  0|  2|     140| 308|  0|      0|    142|    0|    1.5|    2|  1|   2|     1|   0|    0|       1|\n",
      "| 54|   170|    66|  1|  0|     124| 266|  0|      0|    109|    1|    2.2|    1|  1|   3|     0|   0|    0|       0|\n",
      "| 50|   166|    89|  0|  1|     120| 244|  0|      1|    162|    0|    1.1|    2|  0|   2|     1|   0|    0|       1|\n",
      "| 58|   156|    75|  1|  2|     140| 211|  1|      0|    165|    0|      0|    2|  0|   2|     1|   0|    0|       0|\n",
      "+---+------+------+---+---+--------+----+---+-------+-------+-----+-------+-----+---+----+------+----+-----+--------+\n",
      "only showing top 20 rows\n",
      "\n"
     ]
    }
   ],
   "source": [
    "df_spark.show()"
   ]
  },
  {
   "cell_type": "code",
   "execution_count": 5,
   "id": "28d0c90b",
   "metadata": {},
   "outputs": [
    {
     "name": "stdout",
     "output_type": "stream",
     "text": [
      "root\n",
      " |-- age: string (nullable = true)\n",
      " |-- height: string (nullable = true)\n",
      " |-- weight: string (nullable = true)\n",
      " |-- sex: string (nullable = true)\n",
      " |-- cp: string (nullable = true)\n",
      " |-- trestbps: string (nullable = true)\n",
      " |-- chol: string (nullable = true)\n",
      " |-- fbs: string (nullable = true)\n",
      " |-- restecg: string (nullable = true)\n",
      " |-- thalach: string (nullable = true)\n",
      " |-- exang: string (nullable = true)\n",
      " |-- oldpeak: string (nullable = true)\n",
      " |-- slope: string (nullable = true)\n",
      " |-- ca: string (nullable = true)\n",
      " |-- thal: string (nullable = true)\n",
      " |-- target: string (nullable = true)\n",
      " |-- alco: string (nullable = true)\n",
      " |-- smoke: string (nullable = true)\n",
      " |-- exercise: string (nullable = true)\n",
      "\n"
     ]
    }
   ],
   "source": [
    "df_spark.printSchema()"
   ]
  },
  {
   "cell_type": "code",
   "execution_count": 6,
   "id": "83a5ad33",
   "metadata": {},
   "outputs": [
    {
     "data": {
      "text/plain": [
       "['age',\n",
       " 'height',\n",
       " 'weight',\n",
       " 'sex',\n",
       " 'cp',\n",
       " 'trestbps',\n",
       " 'chol',\n",
       " 'fbs',\n",
       " 'restecg',\n",
       " 'thalach',\n",
       " 'exang',\n",
       " 'oldpeak',\n",
       " 'slope',\n",
       " 'ca',\n",
       " 'thal',\n",
       " 'target',\n",
       " 'alco',\n",
       " 'smoke',\n",
       " 'exercise']"
      ]
     },
     "execution_count": 6,
     "metadata": {},
     "output_type": "execute_result"
    }
   ],
   "source": [
    "df_spark.columns"
   ]
  },
  {
   "cell_type": "code",
   "execution_count": 7,
   "id": "f42b71da",
   "metadata": {},
   "outputs": [],
   "source": [
    "from pyspark.sql.types import DoubleType\n",
    "\n",
    "for i in df_spark.columns:\n",
    "    df_spark = df_spark.withColumn(i, df_spark[i].cast(DoubleType()))"
   ]
  },
  {
   "cell_type": "code",
   "execution_count": 8,
   "id": "f8902aa5",
   "metadata": {},
   "outputs": [],
   "source": [
    "df_spark = df_spark.na.fill( value= 0)"
   ]
  },
  {
   "cell_type": "code",
   "execution_count": 9,
   "id": "509ce25c",
   "metadata": {},
   "outputs": [],
   "source": [
    "from pyspark.sql import functions as F"
   ]
  },
  {
   "cell_type": "code",
   "execution_count": 10,
   "id": "609f4627",
   "metadata": {},
   "outputs": [],
   "source": [
    "def age(text):\n",
    "    if text < 32 :\n",
    "        return int(0)\n",
    "    elif text < 47 :\n",
    "        return int(1)\n",
    "    elif text < 70 :\n",
    "        return int(2)\n",
    "    else   :\n",
    "        return int(3)"
   ]
  },
  {
   "cell_type": "code",
   "execution_count": 11,
   "id": "8d75238e",
   "metadata": {},
   "outputs": [],
   "source": [
    "df_spark = df_spark.withColumn('age', F.UserDefinedFunction(age) (df_spark.age))"
   ]
  },
  {
   "cell_type": "code",
   "execution_count": 12,
   "id": "3938ca9c",
   "metadata": {},
   "outputs": [],
   "source": [
    "df_spark = df_spark.withColumn(\"age\", df_spark[\"age\"].cast(DoubleType()))"
   ]
  },
  {
   "cell_type": "code",
   "execution_count": 13,
   "id": "b0c05e8d",
   "metadata": {},
   "outputs": [
    {
     "name": "stderr",
     "output_type": "stream",
     "text": [
      "\r",
      "[Stage 2:>                                                          (0 + 1) / 1]\r",
      "\r",
      "                                                                                \r"
     ]
    },
    {
     "data": {
      "text/plain": [
       "[Row(age=2.0, height=175.0, weight=75.0, sex=1.0, cp=0.0, trestbps=125.0, chol=212.0, fbs=0.0, restecg=1.0, thalach=168.0, exang=0.0, oldpeak=1.0, slope=2.0, ca=2.0, thal=3.0, target=0.0, alco=0.0, smoke=0.0, exercise=1.0),\n",
       " Row(age=2.0, height=178.0, weight=75.0, sex=1.0, cp=0.0, trestbps=140.0, chol=203.0, fbs=1.0, restecg=0.0, thalach=155.0, exang=1.0, oldpeak=3.1, slope=0.0, ca=0.0, thal=3.0, target=0.0, alco=0.0, smoke=0.0, exercise=0.0),\n",
       " Row(age=3.0, height=167.0, weight=68.0, sex=1.0, cp=0.0, trestbps=145.0, chol=174.0, fbs=0.0, restecg=1.0, thalach=125.0, exang=1.0, oldpeak=2.6, slope=0.0, ca=0.0, thal=3.0, target=0.0, alco=0.0, smoke=0.0, exercise=0.0)]"
      ]
     },
     "execution_count": 13,
     "metadata": {},
     "output_type": "execute_result"
    }
   ],
   "source": [
    "df_spark.head(3)"
   ]
  },
  {
   "cell_type": "code",
   "execution_count": 14,
   "id": "3a1b7469",
   "metadata": {},
   "outputs": [
    {
     "data": {
      "text/plain": [
       "[('age', 'double'),\n",
       " ('height', 'double'),\n",
       " ('weight', 'double'),\n",
       " ('sex', 'double'),\n",
       " ('cp', 'double'),\n",
       " ('trestbps', 'double'),\n",
       " ('chol', 'double'),\n",
       " ('fbs', 'double'),\n",
       " ('restecg', 'double'),\n",
       " ('thalach', 'double'),\n",
       " ('exang', 'double'),\n",
       " ('oldpeak', 'double'),\n",
       " ('slope', 'double'),\n",
       " ('ca', 'double'),\n",
       " ('thal', 'double'),\n",
       " ('target', 'double'),\n",
       " ('alco', 'double'),\n",
       " ('smoke', 'double'),\n",
       " ('exercise', 'double')]"
      ]
     },
     "execution_count": 14,
     "metadata": {},
     "output_type": "execute_result"
    }
   ],
   "source": [
    "df_spark.dtypes"
   ]
  },
  {
   "cell_type": "code",
   "execution_count": 15,
   "id": "a818b081",
   "metadata": {},
   "outputs": [
    {
     "name": "stdout",
     "output_type": "stream",
     "text": [
      "age                  0\n",
      "height               0\n",
      "weight               0\n",
      "sex                  0\n",
      "cp                   0\n",
      "trestbps             0\n",
      "chol                 0\n",
      "fbs                  0\n",
      "restecg              0\n",
      "thalach              0\n",
      "exang                0\n",
      "oldpeak              0\n",
      "slope                0\n",
      "ca                   0\n",
      "thal                 0\n",
      "target               0\n",
      "alco                 0\n",
      "smoke                0\n",
      "exercise             0\n"
     ]
    }
   ],
   "source": [
    "# null values\n",
    "for col in df_spark.columns:\n",
    "    print(col.ljust(20), df_spark.filter(df_spark[col].isNull()).count())"
   ]
  },
  {
   "cell_type": "code",
   "execution_count": 16,
   "id": "de5e8165",
   "metadata": {},
   "outputs": [
    {
     "data": {
      "text/plain": [
       "1499"
      ]
     },
     "execution_count": 16,
     "metadata": {},
     "output_type": "execute_result"
    }
   ],
   "source": [
    "# remove all the null\n",
    "df_spark=df_spark.na.drop()\n",
    "df_spark.count()"
   ]
  },
  {
   "cell_type": "code",
   "execution_count": 17,
   "id": "fafc1223",
   "metadata": {},
   "outputs": [],
   "source": [
    "#Obtain data from the CSV file\n",
    "dd  = spark.read.csv(\"data.csv\",header=True,)"
   ]
  },
  {
   "cell_type": "code",
   "execution_count": 18,
   "id": "f63706f5",
   "metadata": {},
   "outputs": [
    {
     "name": "stdout",
     "output_type": "stream",
     "text": [
      "+-----+---+------+------+---+---+--------+----+---+-------+-------+-----+-------+-----+---+----+------+----+-----+--------+\n",
      "|index|age|height|weight|sex| cp|trestbps|chol|fbs|restecg|thalach|exang|oldpeak|slope| ca|thal|target|alco|smoke|exercise|\n",
      "+-----+---+------+------+---+---+--------+----+---+-------+-------+-----+-------+-----+---+----+------+----+-----+--------+\n",
      "|    1| 52|   175|    75|  1|  0|     125| 212|  0|      1|    168|    0|      1|    2|  2|   3|     0|   0|    0|       1|\n",
      "|    2| 53|   178|    75|  1|  0|     140| 203|  1|      0|    155|    1|    3.1|    0|  0|   3|     0|   0|    0|       0|\n",
      "|    3| 70|   167|    68|  1|  0|     145| 174|  0|      1|    125|    1|    2.6|    0|  0|   3|     0|   0|    0|       0|\n",
      "|    4| 61|   165|    63|  1|  0|     148| 203|  0|      1|    161|    0|      0|    2|  1|   3|     0|   0|    0|       1|\n",
      "|    5| 62|   163|    55|  0|  0|     138| 294|  1|      1|    106|    0|    1.9|    1|  3|   2|     0|   0|    1|       0|\n",
      "|    6| 58|   165|    64|  0|  0|     100| 248|  0|      0|    122|    0|      1|    1|  0|   2|     1|   0|    0|       1|\n",
      "|    7| 58|   165|    74|  1|  0|     114| 318|  0|      2|    140|    0|    4.4|    0|  3|   1|     0|   0|    0|       1|\n",
      "|    8| 55|   169|    70|  1|  0|     160| 289|  0|      0|    145|    1|    0.8|    1|  1|   3|     0|   0|    0|       0|\n",
      "|    9| 46|   140|    48|  1|  0|     120| 249|  0|      0|    144|    0|    0.8|    2|  0|   3|     0|   0|    0|       1|\n",
      "|   10| 54|   165|    65|  1|  0|     122| 286|  0|      0|    116|    1|    3.2|    1|  2|   2|     0|   0|    0|       1|\n",
      "|   11| 71|   170|    68|  0|  0|     112| 149|  0|      1|    125|    0|    1.6|    1|  0|   2|     1|   0|    0|       0|\n",
      "|   12| 43|   171|    69|  0|  0|     132| 341|  1|      0|    136|    1|      3|    1|  0|   3|     0|   0|    0|       0|\n",
      "|   13| 34|   160|    60|  0|  1|     118| 210|  0|      1|    192|    0|    0.7|    2|  0|   2|     1|   0|    0|       1|\n",
      "|   14| 51|   169|    75|  1|  0|     140| 298|  0|      1|    122|    1|    4.2|    1|  3|   3|     0|   0|    0|       0|\n",
      "|   15| 52|   158|    65|  1|  0|     128| 204|  1|      1|    156|    1|      1|    1|  0|   0|     0|   0|    0|       1|\n",
      "|   16| 34|   160|    75|  0|  1|     118| 210|  0|      1|    192|    0|    0.7|    2|  0|   2|     1|   0|    0|       1|\n",
      "|   17| 51|   169|    80|  0|  2|     140| 308|  0|      0|    142|    0|    1.5|    2|  1|   2|     1|   0|    0|       1|\n",
      "|   18| 54|   170|    66|  1|  0|     124| 266|  0|      0|    109|    1|    2.2|    1|  1|   3|     0|   0|    0|       0|\n",
      "|   19| 50|   166|    89|  0|  1|     120| 244|  0|      1|    162|    0|    1.1|    2|  0|   2|     1|   0|    0|       1|\n",
      "|   20| 58|   156|    75|  1|  2|     140| 211|  1|      0|    165|    0|      0|    2|  0|   2|     1|   0|    0|       0|\n",
      "+-----+---+------+------+---+---+--------+----+---+-------+-------+-----+-------+-----+---+----+------+----+-----+--------+\n",
      "only showing top 20 rows\n",
      "\n"
     ]
    }
   ],
   "source": [
    "dd.show()"
   ]
  },
  {
   "cell_type": "code",
   "execution_count": 19,
   "id": "86f3e7a7",
   "metadata": {},
   "outputs": [],
   "source": [
    "def is_positive(smoke,alco,exercise):\n",
    "    if (smoke  == 1)  and (alco == 1)  and( exercise == 1):\n",
    "        return 1\n",
    "    else:\n",
    "        return 0 "
   ]
  },
  {
   "cell_type": "code",
   "execution_count": 20,
   "id": "794f7ba5",
   "metadata": {},
   "outputs": [],
   "source": [
    "from pyspark.sql import functions as F\n",
    "\n",
    "dd = dd.withColumn('positive', F.UserDefinedFunction(is_positive) (dd[\"smoke\"],dd[\"alco\"],dd[\"exercise\"]))"
   ]
  },
  {
   "cell_type": "code",
   "execution_count": 21,
   "id": "e62f9f2a",
   "metadata": {},
   "outputs": [
    {
     "name": "stdout",
     "output_type": "stream",
     "text": [
      "+-----+---+------+------+---+---+--------+----+---+-------+-------+-----+-------+-----+---+----+------+----+-----+--------+--------+\n",
      "|index|age|height|weight|sex| cp|trestbps|chol|fbs|restecg|thalach|exang|oldpeak|slope| ca|thal|target|alco|smoke|exercise|positive|\n",
      "+-----+---+------+------+---+---+--------+----+---+-------+-------+-----+-------+-----+---+----+------+----+-----+--------+--------+\n",
      "|    1| 52|   175|    75|  1|  0|     125| 212|  0|      1|    168|    0|      1|    2|  2|   3|     0|   0|    0|       1|       0|\n",
      "|    2| 53|   178|    75|  1|  0|     140| 203|  1|      0|    155|    1|    3.1|    0|  0|   3|     0|   0|    0|       0|       0|\n",
      "|    3| 70|   167|    68|  1|  0|     145| 174|  0|      1|    125|    1|    2.6|    0|  0|   3|     0|   0|    0|       0|       0|\n",
      "|    4| 61|   165|    63|  1|  0|     148| 203|  0|      1|    161|    0|      0|    2|  1|   3|     0|   0|    0|       1|       0|\n",
      "|    5| 62|   163|    55|  0|  0|     138| 294|  1|      1|    106|    0|    1.9|    1|  3|   2|     0|   0|    1|       0|       0|\n",
      "|    6| 58|   165|    64|  0|  0|     100| 248|  0|      0|    122|    0|      1|    1|  0|   2|     1|   0|    0|       1|       0|\n",
      "|    7| 58|   165|    74|  1|  0|     114| 318|  0|      2|    140|    0|    4.4|    0|  3|   1|     0|   0|    0|       1|       0|\n",
      "|    8| 55|   169|    70|  1|  0|     160| 289|  0|      0|    145|    1|    0.8|    1|  1|   3|     0|   0|    0|       0|       0|\n",
      "|    9| 46|   140|    48|  1|  0|     120| 249|  0|      0|    144|    0|    0.8|    2|  0|   3|     0|   0|    0|       1|       0|\n",
      "|   10| 54|   165|    65|  1|  0|     122| 286|  0|      0|    116|    1|    3.2|    1|  2|   2|     0|   0|    0|       1|       0|\n",
      "|   11| 71|   170|    68|  0|  0|     112| 149|  0|      1|    125|    0|    1.6|    1|  0|   2|     1|   0|    0|       0|       0|\n",
      "|   12| 43|   171|    69|  0|  0|     132| 341|  1|      0|    136|    1|      3|    1|  0|   3|     0|   0|    0|       0|       0|\n",
      "|   13| 34|   160|    60|  0|  1|     118| 210|  0|      1|    192|    0|    0.7|    2|  0|   2|     1|   0|    0|       1|       0|\n",
      "|   14| 51|   169|    75|  1|  0|     140| 298|  0|      1|    122|    1|    4.2|    1|  3|   3|     0|   0|    0|       0|       0|\n",
      "|   15| 52|   158|    65|  1|  0|     128| 204|  1|      1|    156|    1|      1|    1|  0|   0|     0|   0|    0|       1|       0|\n",
      "|   16| 34|   160|    75|  0|  1|     118| 210|  0|      1|    192|    0|    0.7|    2|  0|   2|     1|   0|    0|       1|       0|\n",
      "|   17| 51|   169|    80|  0|  2|     140| 308|  0|      0|    142|    0|    1.5|    2|  1|   2|     1|   0|    0|       1|       0|\n",
      "|   18| 54|   170|    66|  1|  0|     124| 266|  0|      0|    109|    1|    2.2|    1|  1|   3|     0|   0|    0|       0|       0|\n",
      "|   19| 50|   166|    89|  0|  1|     120| 244|  0|      1|    162|    0|    1.1|    2|  0|   2|     1|   0|    0|       1|       0|\n",
      "|   20| 58|   156|    75|  1|  2|     140| 211|  1|      0|    165|    0|      0|    2|  0|   2|     1|   0|    0|       0|       0|\n",
      "+-----+---+------+------+---+---+--------+----+---+-------+-------+-----+-------+-----+---+----+------+----+-----+--------+--------+\n",
      "only showing top 20 rows\n",
      "\n"
     ]
    }
   ],
   "source": [
    "dd.show()"
   ]
  },
  {
   "cell_type": "code",
   "execution_count": 22,
   "id": "02c7b7e6",
   "metadata": {},
   "outputs": [
    {
     "data": {
      "text/plain": [
       "1499"
      ]
     },
     "execution_count": 22,
     "metadata": {},
     "output_type": "execute_result"
    }
   ],
   "source": [
    "dd.count()"
   ]
  },
  {
   "cell_type": "code",
   "execution_count": 23,
   "id": "cc4daf33",
   "metadata": {},
   "outputs": [],
   "source": [
    "aa = spark.read.csv(\"job.csv\",header=True,)"
   ]
  },
  {
   "cell_type": "code",
   "execution_count": 24,
   "id": "ffa05488",
   "metadata": {},
   "outputs": [
    {
     "name": "stdout",
     "output_type": "stream",
     "text": [
      "+------+------------+\n",
      "|index1|         job|\n",
      "+------+------------+\n",
      "|     1|      no-job|\n",
      "|     2|      no-job|\n",
      "|     3|delivery-man|\n",
      "|     4|business-man|\n",
      "|     5|    security|\n",
      "|     6|     teacher|\n",
      "|     7|     teacher|\n",
      "|     8|delivery-man|\n",
      "|     9|      no-job|\n",
      "|    10|    security|\n",
      "|    11|delivery-man|\n",
      "|    12|      no-job|\n",
      "|    13|business-man|\n",
      "|    14|business-man|\n",
      "|    15|delivery-man|\n",
      "|    16| baby-sitter|\n",
      "|    17|     dentist|\n",
      "|    18|     teacher|\n",
      "|    19|     teacher|\n",
      "|    20|      no-job|\n",
      "+------+------------+\n",
      "only showing top 20 rows\n",
      "\n"
     ]
    }
   ],
   "source": [
    "aa.show()"
   ]
  },
  {
   "cell_type": "code",
   "execution_count": 25,
   "id": "3dfbeff5",
   "metadata": {},
   "outputs": [
    {
     "data": {
      "text/plain": [
       "1499"
      ]
     },
     "execution_count": 25,
     "metadata": {},
     "output_type": "execute_result"
    }
   ],
   "source": [
    "aa.count()"
   ]
  },
  {
   "cell_type": "code",
   "execution_count": 26,
   "id": "e157d107",
   "metadata": {},
   "outputs": [
    {
     "data": {
      "text/plain": [
       "['index',\n",
       " 'age',\n",
       " 'height',\n",
       " 'weight',\n",
       " 'sex',\n",
       " 'cp',\n",
       " 'trestbps',\n",
       " 'chol',\n",
       " 'fbs',\n",
       " 'restecg',\n",
       " 'thalach',\n",
       " 'exang',\n",
       " 'oldpeak',\n",
       " 'slope',\n",
       " 'ca',\n",
       " 'thal',\n",
       " 'target',\n",
       " 'alco',\n",
       " 'smoke',\n",
       " 'exercise',\n",
       " 'positive']"
      ]
     },
     "execution_count": 26,
     "metadata": {},
     "output_type": "execute_result"
    }
   ],
   "source": [
    "dd.columns\n"
   ]
  },
  {
   "cell_type": "code",
   "execution_count": 27,
   "id": "0c96c0ed",
   "metadata": {},
   "outputs": [],
   "source": [
    "yy =  dd.join(other  = aa, on =  aa.index1 == dd.index ,how='left').select('index',\n",
    " 'age',\n",
    " 'height',\n",
    " 'weight',\n",
    " 'sex',\n",
    " 'cp',\n",
    " 'trestbps',\n",
    " 'chol',\n",
    " 'fbs',\n",
    " 'restecg',\n",
    " 'thalach',\n",
    " 'exang',\n",
    " 'oldpeak',\n",
    " 'slope',\n",
    " 'ca',\n",
    " 'thal',\n",
    " 'target',\n",
    " 'alco',\n",
    " 'smoke',\n",
    " 'exercise','positive','job')"
   ]
  },
  {
   "cell_type": "code",
   "execution_count": 28,
   "id": "c378f85d",
   "metadata": {},
   "outputs": [
    {
     "name": "stdout",
     "output_type": "stream",
     "text": [
      "+-----+---+------+------+---+---+--------+----+---+-------+-------+-----+-------+-----+---+----+------+----+-----+--------+--------+------------+\n",
      "|index|age|height|weight|sex| cp|trestbps|chol|fbs|restecg|thalach|exang|oldpeak|slope| ca|thal|target|alco|smoke|exercise|positive|         job|\n",
      "+-----+---+------+------+---+---+--------+----+---+-------+-------+-----+-------+-----+---+----+------+----+-----+--------+--------+------------+\n",
      "|    1| 52|   175|    75|  1|  0|     125| 212|  0|      1|    168|    0|      1|    2|  2|   3|     0|   0|    0|       1|       0|      no-job|\n",
      "|    2| 53|   178|    75|  1|  0|     140| 203|  1|      0|    155|    1|    3.1|    0|  0|   3|     0|   0|    0|       0|       0|      no-job|\n",
      "|    3| 70|   167|    68|  1|  0|     145| 174|  0|      1|    125|    1|    2.6|    0|  0|   3|     0|   0|    0|       0|       0|delivery-man|\n",
      "|    4| 61|   165|    63|  1|  0|     148| 203|  0|      1|    161|    0|      0|    2|  1|   3|     0|   0|    0|       1|       0|business-man|\n",
      "|    5| 62|   163|    55|  0|  0|     138| 294|  1|      1|    106|    0|    1.9|    1|  3|   2|     0|   0|    1|       0|       0|    security|\n",
      "|    6| 58|   165|    64|  0|  0|     100| 248|  0|      0|    122|    0|      1|    1|  0|   2|     1|   0|    0|       1|       0|     teacher|\n",
      "|    7| 58|   165|    74|  1|  0|     114| 318|  0|      2|    140|    0|    4.4|    0|  3|   1|     0|   0|    0|       1|       0|     teacher|\n",
      "|    8| 55|   169|    70|  1|  0|     160| 289|  0|      0|    145|    1|    0.8|    1|  1|   3|     0|   0|    0|       0|       0|delivery-man|\n",
      "|    9| 46|   140|    48|  1|  0|     120| 249|  0|      0|    144|    0|    0.8|    2|  0|   3|     0|   0|    0|       1|       0|      no-job|\n",
      "|   10| 54|   165|    65|  1|  0|     122| 286|  0|      0|    116|    1|    3.2|    1|  2|   2|     0|   0|    0|       1|       0|    security|\n",
      "|   11| 71|   170|    68|  0|  0|     112| 149|  0|      1|    125|    0|    1.6|    1|  0|   2|     1|   0|    0|       0|       0|delivery-man|\n",
      "|   12| 43|   171|    69|  0|  0|     132| 341|  1|      0|    136|    1|      3|    1|  0|   3|     0|   0|    0|       0|       0|      no-job|\n",
      "|   13| 34|   160|    60|  0|  1|     118| 210|  0|      1|    192|    0|    0.7|    2|  0|   2|     1|   0|    0|       1|       0|business-man|\n",
      "|   14| 51|   169|    75|  1|  0|     140| 298|  0|      1|    122|    1|    4.2|    1|  3|   3|     0|   0|    0|       0|       0|business-man|\n",
      "|   15| 52|   158|    65|  1|  0|     128| 204|  1|      1|    156|    1|      1|    1|  0|   0|     0|   0|    0|       1|       0|delivery-man|\n",
      "|   16| 34|   160|    75|  0|  1|     118| 210|  0|      1|    192|    0|    0.7|    2|  0|   2|     1|   0|    0|       1|       0| baby-sitter|\n",
      "|   17| 51|   169|    80|  0|  2|     140| 308|  0|      0|    142|    0|    1.5|    2|  1|   2|     1|   0|    0|       1|       0|     dentist|\n",
      "|   18| 54|   170|    66|  1|  0|     124| 266|  0|      0|    109|    1|    2.2|    1|  1|   3|     0|   0|    0|       0|       0|     teacher|\n",
      "|   19| 50|   166|    89|  0|  1|     120| 244|  0|      1|    162|    0|    1.1|    2|  0|   2|     1|   0|    0|       1|       0|     teacher|\n",
      "|   20| 58|   156|    75|  1|  2|     140| 211|  1|      0|    165|    0|      0|    2|  0|   2|     1|   0|    0|       0|       0|      no-job|\n",
      "+-----+---+------+------+---+---+--------+----+---+-------+-------+-----+-------+-----+---+----+------+----+-----+--------+--------+------------+\n",
      "only showing top 20 rows\n",
      "\n"
     ]
    }
   ],
   "source": [
    "yy.show()"
   ]
  },
  {
   "cell_type": "code",
   "execution_count": 29,
   "id": "8f603f67",
   "metadata": {},
   "outputs": [
    {
     "name": "stderr",
     "output_type": "stream",
     "text": [
      "\r",
      "[Stage 59:>                                                         (0 + 1) / 1]\r",
      "\r",
      "                                                                                \r"
     ]
    }
   ],
   "source": [
    "yy.coalesce(1)    .write.mode(\"overwrite\")    .option(\"mapreduce.fileoutputcommitter.marksuccessfuljobs\",\"false\")\\\n",
    "     .option(\"header\",\"true\")\\\n",
    "    .option(\"delimiter\", \",\")\\\n",
    "    .csv(\"result\")"
   ]
  }
 ],
 "metadata": {
  "kernelspec": {
   "display_name": "Python 3 (ipykernel)",
   "language": "python",
   "name": "python3"
  },
  "language_info": {
   "codemirror_mode": {
    "name": "ipython",
    "version": 3
   },
   "file_extension": ".py",
   "mimetype": "text/x-python",
   "name": "python",
   "nbconvert_exporter": "python",
   "pygments_lexer": "ipython3",
   "version": "3.10.4"
  }
 },
 "nbformat": 4,
 "nbformat_minor": 5
}
